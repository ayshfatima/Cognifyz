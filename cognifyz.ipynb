{
 "cells": [
  {
   "cell_type": "markdown",
   "id": "6a963573-3604-48be-909d-88c209e09bf5",
   "metadata": {},
   "source": [
    "Task 1: Data Overview\r\n",
    "\r\n",
    "Objective: Understand the dataset structure.\r\n",
    "\r\n",
    "Steps:\r\n",
    "\r\n",
    "Load the dataset: Import the dataset into a\r\n",
    "data analysis tool such as Python with\r\n",
    "pandas or spreadsheet software.\r\n",
    "1.\r\n",
    "\r\n",
    "Descriptive Statistics: Use descriptive\r\n",
    "functions (e.g., info() in pandas) to gather\r\n",
    "information about the number of entries,\r\n",
    "columns, a\n",
    "nd data types."
   ]
  },
  {
   "cell_type": "code",
   "execution_count": 6,
   "id": "1fc14254-2077-4a4f-b204-54ed14cb0008",
   "metadata": {},
   "outputs": [],
   "source": [
    "import pandas as pd\n",
    "import matplotlib.pyplot as plt\n",
    "\n",
    "# Load the dataset\n",
    "dataset = pd.read_csv(r\"E:\\shaaaa\\Downloads\\Data_set 2 - Copy.csv\") \n"
   ]
  },
  {
   "cell_type": "code",
   "execution_count": 2,
   "id": "2a001f79-4de8-4fd6-9eec-eaca6c90c6bb",
   "metadata": {},
   "outputs": [
    {
     "name": "stdout",
     "output_type": "stream",
     "text": [
      "<class 'pandas.core.frame.DataFrame'>\n",
      "RangeIndex: 40 entries, 0 to 39\n",
      "Data columns (total 24 columns):\n",
      " #   Column                             Non-Null Count  Dtype \n",
      "---  ------                             --------------  ----- \n",
      " 0   gender                             40 non-null     object\n",
      " 1   age                                40 non-null     int64 \n",
      " 2   Investment_Avenues                 40 non-null     object\n",
      " 3   Mutual_Funds                       40 non-null     int64 \n",
      " 4   Equity_Market                      40 non-null     int64 \n",
      " 5   Debentures                         40 non-null     int64 \n",
      " 6   Government_Bonds                   40 non-null     int64 \n",
      " 7   Fixed_Deposits                     40 non-null     int64 \n",
      " 8   PPF                                40 non-null     int64 \n",
      " 9   Gold                               40 non-null     int64 \n",
      " 10  Stock_Marktet                      40 non-null     object\n",
      " 11  Factor                             40 non-null     object\n",
      " 12  Objective                          40 non-null     object\n",
      " 13  Purpose                            40 non-null     object\n",
      " 14  Duration                           40 non-null     object\n",
      " 15  Invest_Monitor                     40 non-null     object\n",
      " 16  Expect                             40 non-null     object\n",
      " 17  Avenue                             40 non-null     object\n",
      " 18  What are your savings objectives?  40 non-null     object\n",
      " 19  Reason_Equity                      40 non-null     object\n",
      " 20  Reason_Mutual                      40 non-null     object\n",
      " 21  Reason_Bonds                       40 non-null     object\n",
      " 22  Reason_FD                          40 non-null     object\n",
      " 23  Source                             40 non-null     object\n",
      "dtypes: int64(8), object(16)\n",
      "memory usage: 7.6+ KB\n"
     ]
    }
   ],
   "source": [
    "dataset.info()"
   ]
  },
  {
   "cell_type": "code",
   "execution_count": 3,
   "id": "395cef01-2831-4de4-a43e-d812843684d2",
   "metadata": {},
   "outputs": [
    {
     "name": "stdout",
     "output_type": "stream",
     "text": [
      "   gender  age Investment_Avenues  Mutual_Funds  Equity_Market  Debentures  \\\n",
      "0  Female   34                Yes             1              2           5   \n",
      "1  Female   23                Yes             4              3           2   \n",
      "2    Male   30                Yes             3              6           4   \n",
      "3    Male   22                Yes             2              1           3   \n",
      "4  Female   24                 No             2              1           3   \n",
      "\n",
      "   Government_Bonds  Fixed_Deposits  PPF  Gold  ...           Duration  \\\n",
      "0                 3               7    6     4  ...          1-3 years   \n",
      "1                 1               5    6     7  ...  More than 5 years   \n",
      "2                 2               5    1     7  ...          3-5 years   \n",
      "3                 7               6    4     5  ...   Less than 1 year   \n",
      "4                 6               4    5     7  ...   Less than 1 year   \n",
      "\n",
      "  Invest_Monitor   Expect       Avenue What are your savings objectives?  \\\n",
      "0        Monthly  20%-30%  Mutual Fund                   Retirement Plan   \n",
      "1         Weekly  20%-30%  Mutual Fund                       Health Care   \n",
      "2          Daily  20%-30%       Equity                   Retirement Plan   \n",
      "3          Daily  10%-20%       Equity                   Retirement Plan   \n",
      "4          Daily  20%-30%       Equity                   Retirement Plan   \n",
      "\n",
      "          Reason_Equity         Reason_Mutual     Reason_Bonds  \\\n",
      "0  Capital Appreciation        Better Returns  Safe Investment   \n",
      "1              Dividend        Better Returns  Safe Investment   \n",
      "2  Capital Appreciation          Tax Benefits  Assured Returns   \n",
      "3              Dividend  Fund Diversification   Tax Incentives   \n",
      "4  Capital Appreciation        Better Returns  Safe Investment   \n",
      "\n",
      "             Reason_FD                    Source  \n",
      "0        Fixed Returns  Newspapers and Magazines  \n",
      "1  High Interest Rates     Financial Consultants  \n",
      "2        Fixed Returns                Television  \n",
      "3  High Interest Rates                  Internet  \n",
      "4            Risk Free                  Internet  \n",
      "\n",
      "[5 rows x 24 columns]\n"
     ]
    }
   ],
   "source": [
    "print(dataset.head())"
   ]
  },
  {
   "cell_type": "code",
   "execution_count": 4,
   "id": "b6c8e345-d52e-4daa-ba74-07921156679b",
   "metadata": {},
   "outputs": [
    {
     "name": "stdout",
     "output_type": "stream",
     "text": [
      "             age  Mutual_Funds  Equity_Market  Debentures  Government_Bonds  \\\n",
      "count  40.000000     40.000000      40.000000   40.000000         40.000000   \n",
      "mean   27.800000      2.550000       3.475000    5.750000          4.650000   \n",
      "std     3.560467      1.197219       1.131994    1.675617          1.369072   \n",
      "min    21.000000      1.000000       1.000000    1.000000          1.000000   \n",
      "25%    25.750000      2.000000       3.000000    5.000000          4.000000   \n",
      "50%    27.000000      2.000000       4.000000    6.500000          5.000000   \n",
      "75%    30.000000      3.000000       4.000000    7.000000          5.000000   \n",
      "max    35.000000      7.000000       6.000000    7.000000          7.000000   \n",
      "\n",
      "       Fixed_Deposits        PPF       Gold  \n",
      "count       40.000000  40.000000  40.000000  \n",
      "mean         3.575000   2.025000   5.975000  \n",
      "std          1.795828   1.609069   1.143263  \n",
      "min          1.000000   1.000000   2.000000  \n",
      "25%          2.750000   1.000000   6.000000  \n",
      "50%          3.500000   1.000000   6.000000  \n",
      "75%          5.000000   2.250000   7.000000  \n",
      "max          7.000000   6.000000   7.000000  \n"
     ]
    }
   ],
   "source": [
    "print(dataset.describe())"
   ]
  },
  {
   "cell_type": "code",
   "execution_count": 5,
   "id": "9a5ef0c0-2ed7-49a4-9a9d-67084633ae96",
   "metadata": {},
   "outputs": [
    {
     "name": "stdout",
     "output_type": "stream",
     "text": [
      "Index(['gender', 'age', 'Investment_Avenues', 'Mutual_Funds', 'Equity_Market',\n",
      "       'Debentures', 'Government_Bonds', 'Fixed_Deposits', 'PPF', 'Gold',\n",
      "       'Stock_Marktet', 'Factor', 'Objective', 'Purpose', 'Duration',\n",
      "       'Invest_Monitor', 'Expect', 'Avenue',\n",
      "       'What are your savings objectives?', 'Reason_Equity', 'Reason_Mutual',\n",
      "       'Reason_Bonds', 'Reason_FD', 'Source'],\n",
      "      dtype='object')\n"
     ]
    }
   ],
   "source": [
    "print(dataset.columns)"
   ]
  },
  {
   "cell_type": "markdown",
   "id": "949cf2a3-296c-41e8-a58e-20ce5a635aa2",
   "metadata": {},
   "source": [
    "Task 2: Gender Distribution\n",
    "\n",
    "Objective: Visualize gender distribution in\n",
    "the dataset.\n",
    "\n",
    "Steps:\n",
    "\n",
    "Extract Gender Information: Identify\n",
    "and extract the gender column from the\n",
    "dataset.\n",
    "1.\n",
    "\n",
    "Visualization: Create a simple\n",
    "visualization, such as a bar chart or pie\n",
    "chart, to represent the distribution of\n",
    "genders in the dataset."
   ]
  },
  {
   "cell_type": "code",
   "execution_count": 9,
   "id": "cc3816c7-5e13-4c6f-8854-cd8c2004d6d8",
   "metadata": {},
   "outputs": [
    {
     "data": {
      "image/png": "[encoded data removed]",
      "text/plain": [
       "<Figure size 800x600 with 1 Axes>"
      ]
     },
     "metadata": {},
     "output_type": "display_data"
    }
   ],
   "source": [
    "\n",
    "gender_data = dataset['gender']\n",
    "\n",
    "gender_counts = gender_data.value_counts()\n",
    "\n",
    "\n",
    "plt.figure(figsize=(8, 6))\n",
    "gender_counts.plot(kind='bar', color=['purple', 'orange'])\n",
    "plt.title('Gender Distribution')\n",
    "plt.xlabel('Gender')\n",
    "plt.ylabel('Count')\n",
    "plt.show()"
   ]
  },
  {
   "cell_type": "markdown",
   "id": "dc6605af-607b-4568-98b4-0c5b847de0f4",
   "metadata": {},
   "source": [
    "Level 2: Intermediate Task 3: Descriptive Statistics\n",
    "\n",
    "Objective: Present basic statistics for\n",
    "numerical columns.\n",
    "\n",
    "Steps:\n",
    "\n",
    "Identify Numerical Columns: Review the\n",
    "dataset to identify columns containing\n",
    "numerical data (e.g., age, income).\n",
    "1.\n",
    "\n",
    "Calculations: Use statistical functions\n",
    "(e.g., mean(), median(), std()) to calculate\n",
    "the mean, median, and standard deviation\n",
    "for each numerical column."
   ]
  },
  {
   "cell_type": "code",
   "execution_count": 10,
   "id": "8ff53369-9ef8-41de-a922-dc0c09871f0d",
   "metadata": {},
   "outputs": [
    {
     "name": "stdout",
     "output_type": "stream",
     "text": [
      "Index(['age', 'Mutual_Funds', 'Equity_Market', 'Debentures',\n",
      "       'Government_Bonds', 'Fixed_Deposits', 'PPF', 'Gold'],\n",
      "      dtype='object')\n"
     ]
    }
   ],
   "source": [
    "numerical_columns = dataset.select_dtypes(include=['int64', 'float64']).columns\n",
    "numerical_data = dataset[numerical_columns]\n",
    "\n",
    "# Display the identified numerical columns\n",
    "print(numerical_columns)"
   ]
  },
  {
   "cell_type": "code",
   "execution_count": 11,
   "id": "e9ceacb4-b2e8-4032-9e1a-c7eb732f66a8",
   "metadata": {},
   "outputs": [
    {
     "name": "stdout",
     "output_type": "stream",
     "text": [
      "Mean values:\n",
      " age                 27.800\n",
      "Mutual_Funds         2.550\n",
      "Equity_Market        3.475\n",
      "Debentures           5.750\n",
      "Government_Bonds     4.650\n",
      "Fixed_Deposits       3.575\n",
      "PPF                  2.025\n",
      "Gold                 5.975\n",
      "dtype: float64\n",
      "\n",
      "Median values:\n",
      " age                 27.0\n",
      "Mutual_Funds         2.0\n",
      "Equity_Market        4.0\n",
      "Debentures           6.5\n",
      "Government_Bonds     5.0\n",
      "Fixed_Deposits       3.5\n",
      "PPF                  1.0\n",
      "Gold                 6.0\n",
      "dtype: float64\n",
      "\n",
      "Standard Deviation values:\n",
      " age                 3.560467\n",
      "Mutual_Funds        1.197219\n",
      "Equity_Market       1.131994\n",
      "Debentures          1.675617\n",
      "Government_Bonds    1.369072\n",
      "Fixed_Deposits      1.795828\n",
      "PPF                 1.609069\n",
      "Gold                1.143263\n",
      "dtype: float64\n"
     ]
    }
   ],
   "source": [
    "mean_values = numerical_data.mean()\n",
    "median_values = numerical_data.median()\n",
    "std_values = numerical_data.std()\n",
    "\n",
    "# Display the calculated statistic\n",
    "print(\"Mean values:\\n\", mean_values)\n",
    "print(\"\\nMedian values:\\n\", median_values)\n",
    "print(\"\\nStandard Deviation values:\\n\", std_values)"
   ]
  },
  {
   "cell_type": "markdown",
   "id": "2de9d068-1b5f-4adc-ba7b-81be4418a865",
   "metadata": {},
   "source": [
    "Task 4: Most Preferred Investment\n",
    "Avenue\n",
    "\n",
    "Objective: Identify the most preferred\n",
    "investment avenue.\n",
    "\n",
    "Steps:\n",
    "\n",
    "Analyze Investment Avenues: Examine the\n",
    "column containing information about\n",
    "different investment avenues (e.g., equity,\n",
    "mutual funds).\n",
    "1.\n",
    "\n",
    "Frequency Analysis: Determine the\n",
    "investment avenue with the highest\n",
    "frequency or occurrence."
   ]
  },
  {
   "cell_type": "code",
   "execution_count": 22,
   "id": "0d3765f8-a34f-44cb-a219-9c59dd0ce0a0",
   "metadata": {},
   "outputs": [
    {
     "name": "stdout",
     "output_type": "stream",
     "text": [
      "['Mutual Fund' 'Equity' 'Fixed Deposits' 'Public Provident Fund']\n"
     ]
    }
   ],
   "source": [
    "# First, let's inspect the unique values in this column\n",
    "investment_avenues = dataset['Avenue']\n",
    "print(investment_avenues.unique())"
   ]
  },
  {
   "cell_type": "code",
   "execution_count": 13,
   "id": "5fac1335-1b3e-4fb1-8737-42f87fd790f9",
   "metadata": {},
   "outputs": [
    {
     "name": "stdout",
     "output_type": "stream",
     "text": [
      "Most Preferred Investment Avenue: Mutual Fund\n",
      "Frequency of Most Preferred Avenue: 18\n"
     ]
    }
   ],
   "source": [
    "avenue_counts = investment_avenues.value_counts()\n",
    "\n",
    "# Display the most preferred investment avenue\n",
    "most_preferred_avenue = avenue_counts.idxmax()\n",
    "most_preferred_avenue_count = avenue_counts.max()\n",
    "\n",
    "print(\"Most Preferred Investment Avenue:\", most_preferred_avenue)\n",
    "print(\"Frequency of Most Preferred Avenue:\", most_preferred_avenue_count)"
   ]
  },
  {
   "cell_type": "markdown",
   "id": "8e0cd74a-2a61-462e-b5e0-55f944235aa3",
   "metadata": {},
   "source": [
    "Task 5: Reasons for Investment\n",
    "\n",
    "Objective: Analyze and summarize reasons\n",
    "for investment choices.\n",
    "\n",
    "Steps:\n",
    "\n",
    "Explore Reasons Column: Investigate\n",
    "the column where participants\n",
    "provided reasons for their investment\n",
    "choices.\n",
    "1.\n",
    "\n",
    "Summarize Reasons: Identify common\n",
    "themes or recurring reasons and\n",
    "provide a summary."
   ]
  },
  {
   "cell_type": "code",
   "execution_count": 14,
   "id": "8cc16959-98a0-49d0-92b8-ce3dd0ebe6f9",
   "metadata": {},
   "outputs": [
    {
     "name": "stdout",
     "output_type": "stream",
     "text": [
      "Unique reasons for Reason_Equity:\n",
      "['Capital Appreciation' 'Dividend' 'Liquidity']\n",
      "\n",
      "\n",
      "Unique reasons for Reason_Mutual:\n",
      "['Better Returns' 'Tax Benefits' 'Fund Diversification']\n",
      "\n",
      "\n",
      "Unique reasons for Reason_Bonds:\n",
      "['Safe Investment' 'Assured Returns' 'Tax Incentives']\n",
      "\n",
      "\n",
      "Unique reasons for Reason_FD:\n",
      "['Fixed Returns' 'High Interest Rates' 'Risk Free']\n",
      "\n",
      "\n"
     ]
    }
   ],
   "source": [
    "reasons_columns = ['Reason_Equity', 'Reason_Mutual', 'Reason_Bonds', 'Reason_FD']\n",
    "\n",
    "for column in reasons_columns:\n",
    "    print(f\"Unique reasons for {column}:\")\n",
    "    print(dataset[column].unique())\n",
    "    print(\"\\n\")"
   ]
  },
  {
   "cell_type": "code",
   "execution_count": 15,
   "id": "a939736a-26cb-4c8d-ad0c-8491245158cc",
   "metadata": {},
   "outputs": [
    {
     "name": "stdout",
     "output_type": "stream",
     "text": [
      "Summary of Common Reasons for Investment Choices:\n",
      "Capital Appreciation    30\n",
      "Assured Returns         26\n",
      "Better Returns          24\n",
      "Risk Free               19\n",
      "Fixed Returns           18\n",
      "Fund Diversification    13\n",
      "Safe Investment         13\n",
      "Dividend                 8\n",
      "Tax Benefits             3\n",
      "High Interest Rates      3\n",
      "Liquidity                2\n",
      "Tax Incentives           1\n",
      "Name: count, dtype: int64\n"
     ]
    }
   ],
   "source": [
    "all_reasons = []\n",
    "\n",
    "for column in reasons_columns:\n",
    "    all_reasons.extend(dataset[column].dropna().values)\n",
    "\n",
    "\n",
    "reasons_series = pd.Series(all_reasons)\n",
    "\n",
    "#the most common reasons\n",
    "common_reasons = reasons_series.value_counts()\n",
    "\n",
    "#the summary of common reasons\n",
    "print(\"Summary of Common Reasons for Investment Choices:\")\n",
    "print(common_reasons)"
   ]
  },
  {
   "cell_type": "markdown",
   "id": "c769166f-0a01-4591-b197-3428fb7c2a94",
   "metadata": {},
   "source": [
    "Level 3: Advanced Task 6: Savings Objectives\n",
    "\n",
    "Objective: Identify and present main\n",
    "savings objectives.\n",
    "\n",
    "Steps:\n",
    "\n",
    "Analyze Savings Objectives: Examine\n",
    "the column containing information\n",
    "about participants' savings objectives.\n",
    "1.\n",
    "\n",
    "List and Describe Objectives: Create a\n",
    "list and describe the main savings\n",
    "objectives mentioned by participants."
   ]
  },
  {
   "cell_type": "code",
   "execution_count": 16,
   "id": "731651ad-53d1-4d97-970c-6366de15dc2c",
   "metadata": {},
   "outputs": [
    {
     "name": "stdout",
     "output_type": "stream",
     "text": [
      "Unique Savings Objectives:\n",
      "['Retirement Plan' 'Health Care' 'Education']\n"
     ]
    }
   ],
   "source": [
    "#savings objectives column\n",
    "savings_objectives = dataset['What are your savings objectives?']\n",
    "\n",
    "# unique savings objectives mentioned by participants\n",
    "unique_objectives = savings_objectives.unique()\n",
    "print(\"Unique Savings Objectives:\")\n",
    "print(unique_objectives)"
   ]
  },
  {
   "cell_type": "code",
   "execution_count": 18,
   "id": "47ceb21a-3bdf-4c94-9a59-491089f3aa0d",
   "metadata": {},
   "outputs": [
    {
     "name": "stdout",
     "output_type": "stream",
     "text": [
      "Main Savings Objectives and Their Frequencies:\n",
      "What are your savings objectives?\n",
      "Retirement Plan    24\n",
      "Health Care        13\n",
      "Education           3\n",
      "Name: count, dtype: int64\n",
      "\n",
      "Objective: Retirement Plan\n",
      "Description: This objective was chosen by 24 participants.\n",
      "\n",
      "Objective: Health Care\n",
      "Description: This objective was chosen by 13 participants.\n",
      "\n",
      "Objective: Education\n",
      "Description: This objective was chosen by 3 participants.\n"
     ]
    }
   ],
   "source": [
    "#frequency of each savings objective\n",
    "objective_counts = savings_objectives.value_counts()\n",
    "print(\"Main Savings Objectives and Their Frequencies:\")\n",
    "print(objective_counts)\n",
    "for objective, count in objective_counts.items():\n",
    "    print(f\"\\nObjective: {objective}\")\n",
    "    print(f\"Description: This objective was chosen by {count} participants.\")"
   ]
  },
  {
   "cell_type": "markdown",
   "id": "33952ebb-8932-40ea-b421-e6a8bc1da2c5",
   "metadata": {},
   "source": [
    "Task 7: Common Information Sources\n",
    "\n",
    "Objective: Analyze common sources participants\n",
    "rely on for investment information.\n",
    "\n",
    "Steps:\n",
    "\n",
    "Explore Information Sources Column: Review\n",
    "the column where participants indicated their\n",
    "sources of investment information.\n",
    "1.\n",
    "\n",
    "Identify Common Sources: Analyze the data to\n",
    "identify and summarize the most common\n",
    "sources participants rely on."
   ]
  },
  {
   "cell_type": "code",
   "execution_count": 30,
   "id": "66e31700-03f3-4b29-b267-a74b738f2eb6",
   "metadata": {},
   "outputs": [
    {
     "name": "stdout",
     "output_type": "stream",
     "text": [
      "First few entries in the Information Sources column:\n",
      "0    Newspapers and Magazines\n",
      "1       Financial Consultants\n",
      "2                  Television\n",
      "3                    Internet\n",
      "4                    Internet\n",
      "Name: Source, dtype: object\n"
     ]
    }
   ],
   "source": [
    "information_sources = dataset['Source']\n",
    "\n",
    "print(\"First few entries in the Information Sources column:\")\n",
    "print(information_sources.head())"
   ]
  },
  {
   "cell_type": "code",
   "execution_count": null,
   "id": "603db331-3d28-4b59-baa1-ab349918c1d0",
   "metadata": {},
   "outputs": [],
   "source": []
  },
  {
   "cell_type": "markdown",
   "id": "4a6f5368-a0fa-45d6-bca4-4a3d25833abd",
   "metadata": {},
   "source": [
    "Task 8: Investment Duration\n",
    "\n",
    "Objective: Calculate the average investment\n",
    "duration.\n",
    "\n",
    "Steps:\n",
    "\n",
    "Analyze Investment Duration Column:\n",
    "Examine the column containing information\n",
    "about participants' investment durations.\n",
    "1.\n",
    "\n",
    "Calculate Average Duration: Use\n",
    "appropriate statistical methods to calculate\n",
    "the average investment duration."
   ]
  },
  {
   "cell_type": "code",
   "execution_count": 19,
   "id": "9fd2f4a1-c7f0-4bc3-9d73-47b76cc48e1b",
   "metadata": {},
   "outputs": [
    {
     "name": "stdout",
     "output_type": "stream",
     "text": [
      "Unique Investment Durations:\n",
      "['1-3 years' 'More than 5 years' '3-5 years' 'Less than 1 year']\n"
     ]
    }
   ],
   "source": [
    "investment_duration = dataset['Duration']\n",
    "unique_durations = investment_duration.unique()\n",
    "print(\"Unique Investment Durations:\")\n",
    "print(unique_durations)"
   ]
  },
  {
   "cell_type": "code",
   "execution_count": 20,
   "id": "5d14b150-4772-4eb4-9b4a-32b8fd18f944",
   "metadata": {},
   "outputs": [
    {
     "name": "stdout",
     "output_type": "stream",
     "text": [
      "Numerical Investment Durations:\n",
      "0    2.0\n",
      "1    5.0\n",
      "2    4.0\n",
      "3    0.5\n",
      "4    0.5\n",
      "Name: Duration, dtype: float64\n"
     ]
    }
   ],
   "source": [
    "duration_mapping = {\n",
    "    'Less than 1 year': 0.5,\n",
    "    '1-3 years': 2,\n",
    "    '3-5 years': 4,\n",
    "    'More than 5 years': 5\n",
    "}\n",
    "\n",
    "numerical_duration = investment_duration.map(duration_mapping)\n",
    "\n",
    "print(\"Numerical Investment Durations:\")\n",
    "print(numerical_duration.head())"
   ]
  },
  {
   "cell_type": "code",
   "execution_count": 21,
   "id": "769ddbd7-ca5b-4e03-aab7-61f05b3cb069",
   "metadata": {},
   "outputs": [
    {
     "name": "stdout",
     "output_type": "stream",
     "text": [
      "Average Investment Duration: 2.95 years\n"
     ]
    }
   ],
   "source": [
    "average_duration = numerical_duration.mean()\n",
    "\n",
    "print(f\"Average Investment Duration: {average_duration} years\")"
   ]
  },
  {
   "cell_type": "markdown",
   "id": "3f0e32ba-7eec-4cd0-8e30-e038838b0035",
   "metadata": {},
   "source": [
    "Task 9: Expectations from Investments\n",
    "\n",
    "Objective: Summarize participants' expectations\n",
    "from investments.\n",
    "\n",
    "Steps:\n",
    "\n",
    "Explore Expectations Column: Review the\n",
    "column where participants provided\n",
    "information about their expectations.\n",
    "1.\n",
    "\n",
    "List and Describe Expectations: Create a list\n",
    "and describe the common expectations\n",
    "mentioned by participants."
   ]
  },
  {
   "cell_type": "code",
   "execution_count": 23,
   "id": "0e8e6523-3563-451f-9c9e-7612b502f3ed",
   "metadata": {},
   "outputs": [
    {
     "name": "stdout",
     "output_type": "stream",
     "text": [
      "Unique Investment Expectations:\n",
      "['20%-30%' '10%-20%' '30%-40%']\n"
     ]
    }
   ],
   "source": [
    "expectations = dataset['Expect']\n",
    "\n",
    "# Display unique expectations mentioned by participants\n",
    "unique_expectations = expectations.unique()\n",
    "print(\"Unique Investment Expectations:\")\n",
    "print(unique_expectations)"
   ]
  },
  {
   "cell_type": "code",
   "execution_count": 25,
   "id": "70cb3041-cf31-4c1b-a966-28c74246d0e8",
   "metadata": {},
   "outputs": [
    {
     "name": "stdout",
     "output_type": "stream",
     "text": [
      "Common Investment Expectations and Their Frequencies:\n",
      "Expect\n",
      "20%-30%    32\n",
      "30%-40%     5\n",
      "10%-20%     3\n",
      "Name: count, dtype: int64\n",
      "\n",
      "Expectation: 20%-30%\n",
      "Description: This expectation by 32 participants.\n",
      "\n",
      "Expectation: 30%-40%\n",
      "Description: This expectation by 5 participants.\n",
      "\n",
      "Expectation: 10%-20%\n",
      "Description: This expectation by 3 participants.\n"
     ]
    }
   ],
   "source": [
    "expectation_counts = expectations.value_counts()\n",
    "print(\"Common Investment Expectations and Their Frequencies:\")\n",
    "print(expectation_counts)\n",
    "for expectation, count in expectation_counts.items():\n",
    "    print(f\"\\nExpectation: {expectation}\")\n",
    "    print(f\"Description: This expectation by {count} participants.\")\n"
   ]
  },
  {
   "cell_type": "markdown",
   "id": "8e081782-cdad-477e-8367-3471ca01f377",
   "metadata": {},
   "source": [
    "Task 10: Correlation Analysis\n",
    "\n",
    "Objective: Explore potential correlations\n",
    "between factors.\n",
    "\n",
    "Steps:\n",
    "\n",
    "Select Relevant Columns: Identify columns\n",
    "such as age, investment duration, and\n",
    "expected returns for correlation analysis.\n",
    "1.\n",
    "\n",
    "Use Statistical Methods or Visualizations:\n",
    "Employ statistical methods (e.g., correlation\n",
    "coefficients) or visualizations (e.g., scatter\n",
    "plots) to explore and visualize potential\n",
    "correlations."
   ]
  },
  {
   "cell_type": "code",
   "execution_count": null,
   "id": "7a2a836e-1b4b-4323-a72b-7ee0207df899",
   "metadata": {},
   "outputs": [],
   "source": []
  },
  {
   "cell_type": "code",
   "execution_count": null,
   "id": "13799d80-756a-4e13-9aa1-6cc4f3707bb3",
   "metadata": {},
   "outputs": [],
   "source": []
  },
  {
   "cell_type": "code",
   "execution_count": null,
   "id": "c952ca7a-90e6-48c7-b475-18516d423dd7",
   "metadata": {},
   "outputs": [],
   "source": []
  }
 ],
 "metadata": {
  "kernelspec": {
   "display_name": "Python 3 (ipykernel)",
   "language": "python",
   "name": "python3"
  },
  "language_info": {
   "codemirror_mode": {
    "name": "ipython",
    "version": 3
   },
   "file_extension": ".py",
   "mimetype": "text/x-python",
   "name": "python",
   "nbconvert_exporter": "python",
   "pygments_lexer": "ipython3",
   "version": "3.11.7"
  }
 },
 "nbformat": 4,
 "nbformat_minor": 5
}
